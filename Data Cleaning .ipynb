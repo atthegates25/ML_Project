{
 "cells": [
  {
   "cell_type": "markdown",
   "metadata": {},
   "source": [
    "# Import Data and Packages"
   ]
  },
  {
   "cell_type": "code",
   "execution_count": 55,
   "metadata": {},
   "outputs": [],
   "source": [
    "import pandas as pd\n",
    "import numpy as np"
   ]
  },
  {
   "cell_type": "code",
   "execution_count": 56,
   "metadata": {},
   "outputs": [],
   "source": [
    "trn = pd.read_csv('train.csv')\n",
    "test = pd.read_csv('test.csv')"
   ]
  },
  {
   "cell_type": "markdown",
   "metadata": {},
   "source": [
    "# Combine Dataframes to Clean Together"
   ]
  },
  {
   "cell_type": "code",
   "execution_count": 3,
   "metadata": {},
   "outputs": [
    {
     "name": "stdout",
     "output_type": "stream",
     "text": [
      "1460\n",
      "1461\n"
     ]
    }
   ],
   "source": [
    "# We can use this information to split the two after we've treated them together\n",
    "print(max(trn.Id))\n",
    "print(min(test.Id))"
   ]
  },
  {
   "cell_type": "code",
   "execution_count": 57,
   "metadata": {},
   "outputs": [],
   "source": [
    "test['SalePrice']=0"
   ]
  },
  {
   "cell_type": "code",
   "execution_count": 58,
   "metadata": {},
   "outputs": [],
   "source": [
    "df = pd.concat([trn,test])"
   ]
  },
  {
   "cell_type": "markdown",
   "metadata": {},
   "source": [
    "# View Missingness"
   ]
  },
  {
   "cell_type": "code",
   "execution_count": 77,
   "metadata": {},
   "outputs": [
    {
     "data": {
      "text/html": [
       "<div>\n",
       "<style scoped>\n",
       "    .dataframe tbody tr th:only-of-type {\n",
       "        vertical-align: middle;\n",
       "    }\n",
       "\n",
       "    .dataframe tbody tr th {\n",
       "        vertical-align: top;\n",
       "    }\n",
       "\n",
       "    .dataframe thead th {\n",
       "        text-align: right;\n",
       "    }\n",
       "</style>\n",
       "<table border=\"1\" class=\"dataframe\">\n",
       "  <thead>\n",
       "    <tr style=\"text-align: right;\">\n",
       "      <th></th>\n",
       "      <th>Total</th>\n",
       "      <th>Percent</th>\n",
       "    </tr>\n",
       "  </thead>\n",
       "  <tbody>\n",
       "    <tr>\n",
       "      <th>PoolQC</th>\n",
       "      <td>2909</td>\n",
       "      <td>99.66</td>\n",
       "    </tr>\n",
       "    <tr>\n",
       "      <th>MiscFeature</th>\n",
       "      <td>2814</td>\n",
       "      <td>96.40</td>\n",
       "    </tr>\n",
       "    <tr>\n",
       "      <th>Alley</th>\n",
       "      <td>2721</td>\n",
       "      <td>93.22</td>\n",
       "    </tr>\n",
       "    <tr>\n",
       "      <th>Fence</th>\n",
       "      <td>2348</td>\n",
       "      <td>80.44</td>\n",
       "    </tr>\n",
       "    <tr>\n",
       "      <th>FireplaceQu</th>\n",
       "      <td>1420</td>\n",
       "      <td>48.65</td>\n",
       "    </tr>\n",
       "    <tr>\n",
       "      <th>LotFrontage</th>\n",
       "      <td>486</td>\n",
       "      <td>16.65</td>\n",
       "    </tr>\n",
       "    <tr>\n",
       "      <th>GarageCond</th>\n",
       "      <td>159</td>\n",
       "      <td>5.45</td>\n",
       "    </tr>\n",
       "    <tr>\n",
       "      <th>GarageYrBlt</th>\n",
       "      <td>159</td>\n",
       "      <td>5.45</td>\n",
       "    </tr>\n",
       "    <tr>\n",
       "      <th>GarageFinish</th>\n",
       "      <td>159</td>\n",
       "      <td>5.45</td>\n",
       "    </tr>\n",
       "    <tr>\n",
       "      <th>GarageQual</th>\n",
       "      <td>159</td>\n",
       "      <td>5.45</td>\n",
       "    </tr>\n",
       "    <tr>\n",
       "      <th>GarageType</th>\n",
       "      <td>157</td>\n",
       "      <td>5.38</td>\n",
       "    </tr>\n",
       "    <tr>\n",
       "      <th>BsmtCond</th>\n",
       "      <td>82</td>\n",
       "      <td>2.81</td>\n",
       "    </tr>\n",
       "    <tr>\n",
       "      <th>BsmtExposure</th>\n",
       "      <td>82</td>\n",
       "      <td>2.81</td>\n",
       "    </tr>\n",
       "    <tr>\n",
       "      <th>BsmtQual</th>\n",
       "      <td>81</td>\n",
       "      <td>2.77</td>\n",
       "    </tr>\n",
       "    <tr>\n",
       "      <th>BsmtFinType2</th>\n",
       "      <td>80</td>\n",
       "      <td>2.74</td>\n",
       "    </tr>\n",
       "    <tr>\n",
       "      <th>BsmtFinType1</th>\n",
       "      <td>79</td>\n",
       "      <td>2.71</td>\n",
       "    </tr>\n",
       "    <tr>\n",
       "      <th>MasVnrType</th>\n",
       "      <td>24</td>\n",
       "      <td>0.82</td>\n",
       "    </tr>\n",
       "    <tr>\n",
       "      <th>MasVnrArea</th>\n",
       "      <td>23</td>\n",
       "      <td>0.79</td>\n",
       "    </tr>\n",
       "    <tr>\n",
       "      <th>MSZoning</th>\n",
       "      <td>4</td>\n",
       "      <td>0.14</td>\n",
       "    </tr>\n",
       "    <tr>\n",
       "      <th>Utilities</th>\n",
       "      <td>2</td>\n",
       "      <td>0.07</td>\n",
       "    </tr>\n",
       "    <tr>\n",
       "      <th>BsmtHalfBath</th>\n",
       "      <td>2</td>\n",
       "      <td>0.07</td>\n",
       "    </tr>\n",
       "    <tr>\n",
       "      <th>BsmtFullBath</th>\n",
       "      <td>2</td>\n",
       "      <td>0.07</td>\n",
       "    </tr>\n",
       "    <tr>\n",
       "      <th>Functional</th>\n",
       "      <td>2</td>\n",
       "      <td>0.07</td>\n",
       "    </tr>\n",
       "    <tr>\n",
       "      <th>Exterior1st</th>\n",
       "      <td>1</td>\n",
       "      <td>0.03</td>\n",
       "    </tr>\n",
       "    <tr>\n",
       "      <th>TotalBsmtSF</th>\n",
       "      <td>1</td>\n",
       "      <td>0.03</td>\n",
       "    </tr>\n",
       "    <tr>\n",
       "      <th>BsmtUnfSF</th>\n",
       "      <td>1</td>\n",
       "      <td>0.03</td>\n",
       "    </tr>\n",
       "    <tr>\n",
       "      <th>BsmtFinSF2</th>\n",
       "      <td>1</td>\n",
       "      <td>0.03</td>\n",
       "    </tr>\n",
       "    <tr>\n",
       "      <th>GarageArea</th>\n",
       "      <td>1</td>\n",
       "      <td>0.03</td>\n",
       "    </tr>\n",
       "    <tr>\n",
       "      <th>KitchenQual</th>\n",
       "      <td>1</td>\n",
       "      <td>0.03</td>\n",
       "    </tr>\n",
       "    <tr>\n",
       "      <th>GarageCars</th>\n",
       "      <td>1</td>\n",
       "      <td>0.03</td>\n",
       "    </tr>\n",
       "    <tr>\n",
       "      <th>BsmtFinSF1</th>\n",
       "      <td>1</td>\n",
       "      <td>0.03</td>\n",
       "    </tr>\n",
       "    <tr>\n",
       "      <th>Exterior2nd</th>\n",
       "      <td>1</td>\n",
       "      <td>0.03</td>\n",
       "    </tr>\n",
       "    <tr>\n",
       "      <th>SaleType</th>\n",
       "      <td>1</td>\n",
       "      <td>0.03</td>\n",
       "    </tr>\n",
       "    <tr>\n",
       "      <th>Electrical</th>\n",
       "      <td>1</td>\n",
       "      <td>0.03</td>\n",
       "    </tr>\n",
       "  </tbody>\n",
       "</table>\n",
       "</div>"
      ],
      "text/plain": [
       "              Total  Percent\n",
       "PoolQC         2909    99.66\n",
       "MiscFeature    2814    96.40\n",
       "Alley          2721    93.22\n",
       "Fence          2348    80.44\n",
       "FireplaceQu    1420    48.65\n",
       "LotFrontage     486    16.65\n",
       "GarageCond      159     5.45\n",
       "GarageYrBlt     159     5.45\n",
       "GarageFinish    159     5.45\n",
       "GarageQual      159     5.45\n",
       "GarageType      157     5.38\n",
       "BsmtCond         82     2.81\n",
       "BsmtExposure     82     2.81\n",
       "BsmtQual         81     2.77\n",
       "BsmtFinType2     80     2.74\n",
       "BsmtFinType1     79     2.71\n",
       "MasVnrType       24     0.82\n",
       "MasVnrArea       23     0.79\n",
       "MSZoning          4     0.14\n",
       "Utilities         2     0.07\n",
       "BsmtHalfBath      2     0.07\n",
       "BsmtFullBath      2     0.07\n",
       "Functional        2     0.07\n",
       "Exterior1st       1     0.03\n",
       "TotalBsmtSF       1     0.03\n",
       "BsmtUnfSF         1     0.03\n",
       "BsmtFinSF2        1     0.03\n",
       "GarageArea        1     0.03\n",
       "KitchenQual       1     0.03\n",
       "GarageCars        1     0.03\n",
       "BsmtFinSF1        1     0.03\n",
       "Exterior2nd       1     0.03\n",
       "SaleType          1     0.03\n",
       "Electrical        1     0.03"
      ]
     },
     "execution_count": 77,
     "metadata": {},
     "output_type": "execute_result"
    }
   ],
   "source": [
    "total = df.isnull().sum().sort_values(ascending=False)\n",
    "percent = 100*(df.isnull().sum()/df.isnull().count()).sort_values(ascending=False)\n",
    "missing_data = pd.concat([total, percent], axis=1, keys=['Total', 'Percent'])\n",
    "missing_data = missing_data.round(2)\n",
    "missing_data[missing_data.Total>0]"
   ]
  },
  {
   "cell_type": "code",
   "execution_count": 7,
   "metadata": {},
   "outputs": [],
   "source": [
    "# remove these variables\n",
    "df = df.drop(['Utilities','PoolQC','MiscFeature','Fence'],axis=1)"
   ]
  },
  {
   "cell_type": "code",
   "execution_count": 8,
   "metadata": {},
   "outputs": [],
   "source": [
    "# convert alley NA to seperate category\n",
    "df.loc[df.Alley.isnull(),'Alley']='None'"
   ]
  },
  {
   "cell_type": "code",
   "execution_count": 9,
   "metadata": {},
   "outputs": [],
   "source": [
    "# functional\n",
    "df.loc[df.Functional.isnull(),'Functional']='Typ'\n",
    "df = df.replace({\"Functional\" : {\"Typ\" : 7,\n",
    "    \"Min1\" : 6,\n",
    "    \"Min2\" : 5,\n",
    "    \"Mod\" : 4,\n",
    "    \"Maj1\" : 3,\n",
    "    \"Maj2\" : 2,\n",
    "    \"Sev\" : 1}})"
   ]
  },
  {
   "cell_type": "code",
   "execution_count": 10,
   "metadata": {},
   "outputs": [],
   "source": [
    "# heatingQC\n",
    "df = df.replace({\"HeatingQC\" : {\"Ex\" : 5, \"Gd\" : 4, \"TA\" : 3, \"Fa\" : 2, \"Po\" : 1}})"
   ]
  },
  {
   "cell_type": "code",
   "execution_count": 11,
   "metadata": {},
   "outputs": [],
   "source": [
    "# exterqual and extercond\n",
    "df = df.replace({\"ExterQual\" : {\"Ex\" : 5, \"Gd\" : 4, \"TA\" : 3, \"Fa\" : 2, \"Po\" : 1}})\n",
    "\n",
    "df = df.replace({\"ExterCond\" : {\"Ex\" : 5, \"Gd\" : 4, \"TA\" : 3, \"Fa\" : 2, \"Po\" : 1}})"
   ]
  },
  {
   "cell_type": "code",
   "execution_count": 12,
   "metadata": {},
   "outputs": [],
   "source": [
    "# fireplace quality - ordinal categorical with NAs = 0\n",
    "df = df.replace({\"FireplaceQu\" : {\"Ex\" : 5, \"Gd\" : 4, \"TA\" : 3, \"Fa\" : 2, \"Po\" : 1}})\n",
    "df['FireplaceQu'] = df['FireplaceQu'].fillna(0)"
   ]
  },
  {
   "cell_type": "code",
   "execution_count": 13,
   "metadata": {},
   "outputs": [],
   "source": [
    "# kitchen qual\n",
    "df = df.replace({\"KitchenQual\" : {\"Ex\" : 5, \"Gd\" : 4, \"TA\" : 3, \"Fa\" : 2, \"Po\" : 1}})\n",
    "df['KitchenQual'] = df['KitchenQual'].fillna(0)"
   ]
  },
  {
   "cell_type": "code",
   "execution_count": 14,
   "metadata": {},
   "outputs": [],
   "source": [
    "# lot frontage impute 0s\n",
    "df['LotFrontage'] = df['LotFrontage'].fillna(0)"
   ]
  },
  {
   "cell_type": "code",
   "execution_count": 59,
   "metadata": {},
   "outputs": [],
   "source": [
    "# convert the two integer-type categories to categories\n",
    "df = df.replace({\"MSSubClass\" : {20 : \"SC20\", 30 : \"SC30\", 40 : \"SC40\", 45 : \"SC45\",\n",
    "                                       50 : \"SC50\", 60 : \"SC60\", 70 : \"SC70\", 75 : \"SC75\",\n",
    "                                       80 : \"SC80\", 85 : \"SC85\", 90 : \"SC90\", 120 : \"SC120\",\n",
    "                                       150 : \"SC150\", 160 : \"SC160\", 180 : \"SC180\", 190 : \"SC190\"},\n",
    "                       \"MoSold\" : {1 : \"Jan\", 2 : \"Feb\", 3 : \"Mar\", 4 : \"Apr\", 5 : \"May\", 6 : \"Jun\",\n",
    "                                   7 : \"Jul\", 8 : \"Aug\", 9 : \"Sep\", 10 : \"Oct\", 11 : \"Nov\", 12 : \"Dec\"}\n",
    "                      })"
   ]
  },
  {
   "cell_type": "code",
   "execution_count": 16,
   "metadata": {},
   "outputs": [],
   "source": [
    "# Garage variables\n",
    "\n",
    "df.loc[df.GarageType.isnull(),'GarageType']='None'\n",
    "#change GarageFinish to be ordinal with NAs = 0\n",
    "df = df.replace({\"GarageFinish\" : {\"Fin\" : 3, \"RFn\" : 2, \"Unf\" : 1}})\n",
    "df['GarageFinish'] = df['GarageFinish'].fillna(0)\n",
    "# change GarageCond to be ordinal with NAs = 0\n",
    "df = df.replace({\"GarageCond\" : {\"Ex\" : 5, \"Gd\" : 4, \"TA\" : 3, \"Fa\" : 2, \"Po\" : 1}})\n",
    "df['GarageCond'] = df['GarageCond'].fillna(0)\n",
    "# change GarageQual to be ordinal with NAs = 0\n",
    "df = df.replace({\"GarageQual\" : {\"Ex\" : 5, \"Gd\" : 4, \"TA\" : 3, \"Fa\" : 2, \"Po\" : 1}})\n",
    "df['GarageQual'] = df['GarageQual'].fillna(0)\n",
    "#drop Garage yr blt\n",
    "df = df.drop('GarageYrBlt', axis=1)"
   ]
  },
  {
   "cell_type": "code",
   "execution_count": 17,
   "metadata": {},
   "outputs": [],
   "source": [
    "# Basement variables:\n",
    "\n",
    "# DROP BsmtFinType(s) because I can't figure out how to deal with them\n",
    "df = df.drop(['BsmtFinType1'],axis=1)\n",
    "df = df.drop(['BsmtFinType2'],axis=1)\n",
    "# BsmtQual ord\n",
    "df = df.replace({\"BsmtQual\" : {\"Ex\" : 5, \"Gd\" : 4, \"TA\" : 3, \"Fa\" : 2, \"Po\" : 1}})\n",
    "df['BsmtQual'] = df['BsmtQual'].fillna(0)\n",
    "# BsmtCond \n",
    "df = df.replace({\"BsmtCond\" : {\"Ex\" : 5, \"Gd\" : 4, \"TA\" : 3, \"Fa\" : 2, \"Po\" : 1}})\n",
    "df['BsmtCond'] = df['BsmtCond'].fillna(0)\n",
    "# BsmtExposure\n",
    "df = df.replace({\"BsmtExposure\" : {\"Gd\" : 4, \"Av\" : 3, \"Mn\" : 2, \"No\" : 1}})\n",
    "df['BsmtExposure'] = df['BsmtExposure'].fillna(0)"
   ]
  },
  {
   "cell_type": "code",
   "execution_count": 18,
   "metadata": {},
   "outputs": [],
   "source": [
    "# Mason variables:\n",
    "\n",
    "df.loc[df.MasVnrType.isnull(),'MasVnrType']='None'\n",
    "df.loc[df.MasVnrArea.isnull(),'MasVnrArea']=0"
   ]
  },
  {
   "cell_type": "code",
   "execution_count": 19,
   "metadata": {},
   "outputs": [],
   "source": [
    "# Electrical - impute 1 NA to be most commonly represented category (by comfortable margin)\n",
    "df.loc[df.Electrical.isnull(),'Electrical']='SBrkr'"
   ]
  },
  {
   "cell_type": "code",
   "execution_count": 20,
   "metadata": {},
   "outputs": [],
   "source": [
    "# ASSUME MSZoning is equal to RL\n",
    "df.loc[df.MSZoning.isnull(),'MSZoning']='RL'"
   ]
  },
  {
   "cell_type": "code",
   "execution_count": 21,
   "metadata": {},
   "outputs": [],
   "source": [
    "# ASSUME Functional is Typ\n",
    "df.loc[df.Functional.isnull(), 'Functional']='Typ'"
   ]
  },
  {
   "cell_type": "code",
   "execution_count": 22,
   "metadata": {},
   "outputs": [],
   "source": [
    "# ASSUME null means 0 bsmt baths\n",
    "df.loc[df.BsmtFullBath.isnull(), 'BsmtFullBath']=0.0\n",
    "df.loc[df.BsmtHalfBath.isnull(), 'BsmtHalfBath']=0.0"
   ]
  },
  {
   "cell_type": "code",
   "execution_count": 23,
   "metadata": {},
   "outputs": [],
   "source": [
    "# find that bsmt sf should be 0\n",
    "df.loc[df.TotalBsmtSF.isnull(),'BsmtQual']\n",
    "df.loc[df.TotalBsmtSF.isnull(),'TotalBsmtSF']=0\n",
    "\n",
    "df.loc[df.BsmtFinSF2.isnull(),'BsmtQual']\n",
    "df.loc[df.BsmtFinSF2.isnull(),'BsmtFinSF2']=0\n",
    "\n",
    "df.loc[df.BsmtFinSF1.isnull(),'BsmtQual']\n",
    "df.loc[df.BsmtFinSF1.isnull(),'BsmtFinSF1']=0\n",
    "\n",
    "df.loc[df.BsmtUnfSF.isnull(),'BsmtQual']\n",
    "df.loc[df.BsmtUnfSF.isnull(),'BsmtUnfSF']=0"
   ]
  },
  {
   "cell_type": "code",
   "execution_count": 24,
   "metadata": {},
   "outputs": [],
   "source": [
    "# ASSUME SaleType is most common\n",
    "df.loc[df.SaleType.isnull(),'SaleType']='WD'"
   ]
  },
  {
   "cell_type": "code",
   "execution_count": 25,
   "metadata": {},
   "outputs": [],
   "source": [
    "# find that garage cars/area should be 0\n",
    "df.loc[df.GarageCars.isnull(),'GarageCars']=0\n",
    "df.loc[df.GarageArea.isnull(),'GarageArea']=0"
   ]
  },
  {
   "cell_type": "code",
   "execution_count": 26,
   "metadata": {},
   "outputs": [],
   "source": [
    "# ASSUME exteriors are most common\n",
    "df.Exterior2nd.value_counts()\n",
    "df.loc[df.Exterior1st.isnull(),'Exterior1st']='VinylSd'\n",
    "df.loc[df.Exterior2nd.isnull(),'Exterior2nd']='VinylSd'"
   ]
  },
  {
   "cell_type": "markdown",
   "metadata": {},
   "source": [
    "# Feature Engineering"
   ]
  },
  {
   "cell_type": "code",
   "execution_count": 27,
   "metadata": {},
   "outputs": [],
   "source": [
    "# adding Total Square Foot variable\n",
    "df['TotalSF'] = df['TotalBsmtSF'] + df['1stFlrSF'] + df['2ndFlrSF']"
   ]
  },
  {
   "cell_type": "code",
   "execution_count": 28,
   "metadata": {},
   "outputs": [],
   "source": [
    "# drop the above\n",
    "df = df.drop(['TotalBsmtSF','1stFlrSF','2ndFlrSF'],axis=1)"
   ]
  },
  {
   "cell_type": "code",
   "execution_count": 29,
   "metadata": {},
   "outputs": [],
   "source": [
    "# combining outdoor space\n",
    "df['OutdoorSF']=df.WoodDeckSF+df.OpenPorchSF+df.EnclosedPorch+df['3SsnPorch']+df.ScreenPorch"
   ]
  },
  {
   "cell_type": "code",
   "execution_count": 30,
   "metadata": {},
   "outputs": [],
   "source": [
    "# drop the above\n",
    "df = df.drop(['WoodDeckSF','OpenPorchSF','3SsnPorch','EnclosedPorch','ScreenPorch'],axis=1)"
   ]
  },
  {
   "cell_type": "code",
   "execution_count": 31,
   "metadata": {},
   "outputs": [],
   "source": [
    "# create dummies\n",
    "df = pd.get_dummies(df)"
   ]
  },
  {
   "cell_type": "markdown",
   "metadata": {},
   "source": [
    "# Split Combined Dataframe"
   ]
  },
  {
   "cell_type": "code",
   "execution_count": 32,
   "metadata": {},
   "outputs": [],
   "source": [
    "trn = df[:1460]\n",
    "test = df[1460:]"
   ]
  },
  {
   "cell_type": "code",
   "execution_count": 33,
   "metadata": {},
   "outputs": [],
   "source": [
    "test = test.drop('SalePrice',axis=1)"
   ]
  },
  {
   "cell_type": "code",
   "execution_count": 75,
   "metadata": {},
   "outputs": [
    {
     "data": {
      "text/plain": [
       "81"
      ]
     },
     "execution_count": 75,
     "metadata": {},
     "output_type": "execute_result"
    }
   ],
   "source": [
    "len(df.columns)"
   ]
  },
  {
   "cell_type": "markdown",
   "metadata": {},
   "source": [
    "# Save to New Files"
   ]
  },
  {
   "cell_type": "code",
   "execution_count": 36,
   "metadata": {},
   "outputs": [],
   "source": [
    "trn.to_csv('cleantrain.csv')\n",
    "test.to_csv('cleantest.csv')"
   ]
  }
 ],
 "metadata": {
  "kernelspec": {
   "display_name": "Python 3",
   "language": "python",
   "name": "python3"
  },
  "language_info": {
   "codemirror_mode": {
    "name": "ipython",
    "version": 3
   },
   "file_extension": ".py",
   "mimetype": "text/x-python",
   "name": "python",
   "nbconvert_exporter": "python",
   "pygments_lexer": "ipython3",
   "version": "3.6.5"
  }
 },
 "nbformat": 4,
 "nbformat_minor": 2
}
