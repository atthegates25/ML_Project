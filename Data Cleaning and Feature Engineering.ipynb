{
 "cells": [
  {
   "cell_type": "markdown",
   "metadata": {},
   "source": [
    "# IMPORT PACKAGES AND DATA"
   ]
  },
  {
   "cell_type": "code",
   "execution_count": 158,
   "metadata": {},
   "outputs": [],
   "source": [
    "import pandas as pd\n",
    "import numpy as np\n",
    "from matplotlib import pyplot as plt\n",
    "import seaborn as sns\n",
    "from scipy.stats import norm\n",
    "from sklearn.preprocessing import StandardScaler\n",
    "from scipy import stats"
   ]
  },
  {
   "cell_type": "code",
   "execution_count": 159,
   "metadata": {},
   "outputs": [],
   "source": [
    "trn = pd.read_csv('train.csv')\n",
    "test = pd.read_csv('test.csv')"
   ]
  },
  {
   "cell_type": "markdown",
   "metadata": {},
   "source": [
    "# VIEW MISSINGNESS"
   ]
  },
  {
   "cell_type": "code",
   "execution_count": 160,
   "metadata": {},
   "outputs": [
    {
     "data": {
      "text/html": [
       "<div>\n",
       "<style scoped>\n",
       "    .dataframe tbody tr th:only-of-type {\n",
       "        vertical-align: middle;\n",
       "    }\n",
       "\n",
       "    .dataframe tbody tr th {\n",
       "        vertical-align: top;\n",
       "    }\n",
       "\n",
       "    .dataframe thead th {\n",
       "        text-align: right;\n",
       "    }\n",
       "</style>\n",
       "<table border=\"1\" class=\"dataframe\">\n",
       "  <thead>\n",
       "    <tr style=\"text-align: right;\">\n",
       "      <th></th>\n",
       "      <th>Total</th>\n",
       "      <th>Percent</th>\n",
       "    </tr>\n",
       "  </thead>\n",
       "  <tbody>\n",
       "    <tr>\n",
       "      <th>PoolQC</th>\n",
       "      <td>1453</td>\n",
       "      <td>0.995205</td>\n",
       "    </tr>\n",
       "    <tr>\n",
       "      <th>MiscFeature</th>\n",
       "      <td>1406</td>\n",
       "      <td>0.963014</td>\n",
       "    </tr>\n",
       "    <tr>\n",
       "      <th>Alley</th>\n",
       "      <td>1369</td>\n",
       "      <td>0.937671</td>\n",
       "    </tr>\n",
       "    <tr>\n",
       "      <th>Fence</th>\n",
       "      <td>1179</td>\n",
       "      <td>0.807534</td>\n",
       "    </tr>\n",
       "    <tr>\n",
       "      <th>FireplaceQu</th>\n",
       "      <td>690</td>\n",
       "      <td>0.472603</td>\n",
       "    </tr>\n",
       "    <tr>\n",
       "      <th>LotFrontage</th>\n",
       "      <td>259</td>\n",
       "      <td>0.177397</td>\n",
       "    </tr>\n",
       "    <tr>\n",
       "      <th>GarageCond</th>\n",
       "      <td>81</td>\n",
       "      <td>0.055479</td>\n",
       "    </tr>\n",
       "    <tr>\n",
       "      <th>GarageType</th>\n",
       "      <td>81</td>\n",
       "      <td>0.055479</td>\n",
       "    </tr>\n",
       "    <tr>\n",
       "      <th>GarageYrBlt</th>\n",
       "      <td>81</td>\n",
       "      <td>0.055479</td>\n",
       "    </tr>\n",
       "    <tr>\n",
       "      <th>GarageFinish</th>\n",
       "      <td>81</td>\n",
       "      <td>0.055479</td>\n",
       "    </tr>\n",
       "    <tr>\n",
       "      <th>GarageQual</th>\n",
       "      <td>81</td>\n",
       "      <td>0.055479</td>\n",
       "    </tr>\n",
       "    <tr>\n",
       "      <th>BsmtExposure</th>\n",
       "      <td>38</td>\n",
       "      <td>0.026027</td>\n",
       "    </tr>\n",
       "    <tr>\n",
       "      <th>BsmtFinType2</th>\n",
       "      <td>38</td>\n",
       "      <td>0.026027</td>\n",
       "    </tr>\n",
       "    <tr>\n",
       "      <th>BsmtFinType1</th>\n",
       "      <td>37</td>\n",
       "      <td>0.025342</td>\n",
       "    </tr>\n",
       "    <tr>\n",
       "      <th>BsmtCond</th>\n",
       "      <td>37</td>\n",
       "      <td>0.025342</td>\n",
       "    </tr>\n",
       "    <tr>\n",
       "      <th>BsmtQual</th>\n",
       "      <td>37</td>\n",
       "      <td>0.025342</td>\n",
       "    </tr>\n",
       "    <tr>\n",
       "      <th>MasVnrArea</th>\n",
       "      <td>8</td>\n",
       "      <td>0.005479</td>\n",
       "    </tr>\n",
       "    <tr>\n",
       "      <th>MasVnrType</th>\n",
       "      <td>8</td>\n",
       "      <td>0.005479</td>\n",
       "    </tr>\n",
       "    <tr>\n",
       "      <th>Electrical</th>\n",
       "      <td>1</td>\n",
       "      <td>0.000685</td>\n",
       "    </tr>\n",
       "  </tbody>\n",
       "</table>\n",
       "</div>"
      ],
      "text/plain": [
       "              Total   Percent\n",
       "PoolQC         1453  0.995205\n",
       "MiscFeature    1406  0.963014\n",
       "Alley          1369  0.937671\n",
       "Fence          1179  0.807534\n",
       "FireplaceQu     690  0.472603\n",
       "LotFrontage     259  0.177397\n",
       "GarageCond       81  0.055479\n",
       "GarageType       81  0.055479\n",
       "GarageYrBlt      81  0.055479\n",
       "GarageFinish     81  0.055479\n",
       "GarageQual       81  0.055479\n",
       "BsmtExposure     38  0.026027\n",
       "BsmtFinType2     38  0.026027\n",
       "BsmtFinType1     37  0.025342\n",
       "BsmtCond         37  0.025342\n",
       "BsmtQual         37  0.025342\n",
       "MasVnrArea        8  0.005479\n",
       "MasVnrType        8  0.005479\n",
       "Electrical        1  0.000685"
      ]
     },
     "execution_count": 160,
     "metadata": {},
     "output_type": "execute_result"
    }
   ],
   "source": [
    "#missing data\n",
    "total = trn.isnull().sum().sort_values(ascending=False)\n",
    "percent = (trn.isnull().sum()/trn.isnull().count()).sort_values(ascending=False)\n",
    "missing_data = pd.concat([total, percent], axis=1, keys=['Total', 'Percent'])\n",
    "missing_data[missing_data.Total>0]"
   ]
  },
  {
   "cell_type": "markdown",
   "metadata": {},
   "source": [
    "# DATA CLEANING"
   ]
  },
  {
   "cell_type": "code",
   "execution_count": 163,
   "metadata": {},
   "outputs": [],
   "source": [
    "# remove Utilities\n",
    "trn = trn.drop(['Utilities'],axis=1)\n",
    "test = test.drop(['Utilities'],axis=1)"
   ]
  },
  {
   "cell_type": "code",
   "execution_count": 164,
   "metadata": {},
   "outputs": [],
   "source": [
    "# remove poolQC\n",
    "trn = trn.drop(['PoolQC'],axis=1)\n",
    "test = test.drop(['PoolQC'],axis=1)"
   ]
  },
  {
   "cell_type": "code",
   "execution_count": 165,
   "metadata": {},
   "outputs": [],
   "source": [
    "# remove miscfeature - MiscVal expresses it better\n",
    "trn = trn.drop(['MiscFeature'],axis=1)\n",
    "test = test.drop(['MiscFeature'],axis=1)"
   ]
  },
  {
   "cell_type": "code",
   "execution_count": 166,
   "metadata": {},
   "outputs": [],
   "source": [
    "# convert alley NA to seperate category\n",
    "trn.loc[trn.Alley.isnull(),'Alley']='None'\n",
    "test.loc[test.Alley.isnull(),'Alley']='None'"
   ]
  },
  {
   "cell_type": "code",
   "execution_count": 167,
   "metadata": {},
   "outputs": [],
   "source": [
    "# remove fence\n",
    "trn = trn.drop(['Fence'],axis=1)\n",
    "test = test.drop(['Fence'],axis=1)"
   ]
  },
  {
   "cell_type": "code",
   "execution_count": 168,
   "metadata": {},
   "outputs": [],
   "source": [
    "# heatingQC\n",
    "trn = trn.replace({\"HeatingQC\" : {\"Ex\" : 5, \"Gd\" : 4, \"TA\" : 3, \"Fa\" : 2, \"Po\" : 1}})\n",
    "test = test.replace({\"HeatingQC\" : {\"Ex\" : 5, \"Gd\" : 4, \"TA\" : 3, \"Fa\" : 2, \"Po\" : 1}})"
   ]
  },
  {
   "cell_type": "code",
   "execution_count": 169,
   "metadata": {},
   "outputs": [],
   "source": [
    "# exterqual and extercond\n",
    "trn = trn.replace({\"ExterQual\" : {\"Ex\" : 5, \"Gd\" : 4, \"TA\" : 3, \"Fa\" : 2, \"Po\" : 1}})\n",
    "test = test.replace({\"ExterQual\" : {\"Ex\" : 5, \"Gd\" : 4, \"TA\" : 3, \"Fa\" : 2, \"Po\" : 1}})\n",
    "\n",
    "trn = trn.replace({\"ExterCond\" : {\"Ex\" : 5, \"Gd\" : 4, \"TA\" : 3, \"Fa\" : 2, \"Po\" : 1}})\n",
    "test = test.replace({\"ExterCond\" : {\"Ex\" : 5, \"Gd\" : 4, \"TA\" : 3, \"Fa\" : 2, \"Po\" : 1}})"
   ]
  },
  {
   "cell_type": "code",
   "execution_count": 170,
   "metadata": {},
   "outputs": [],
   "source": [
    "# fireplace quality - ordinal categorical with NAs = 0\n",
    "trn = trn.replace({\"FireplaceQu\" : {\"Ex\" : 5, \"Gd\" : 4, \"TA\" : 3, \"Fa\" : 2, \"Po\" : 1}})\n",
    "test = test.replace({\"FireplaceQu\" : {\"Ex\" : 5, \"Gd\" : 4, \"TA\" : 3, \"Fa\" : 2, \"Po\" : 1}})\n",
    "trn['FireplaceQu'] = trn['FireplaceQu'].fillna(0)\n",
    "test['FireplaceQu'] = test['FireplaceQu'].fillna(0)"
   ]
  },
  {
   "cell_type": "code",
   "execution_count": 171,
   "metadata": {},
   "outputs": [],
   "source": [
    "# kitchen qual\n",
    "trn = trn.replace({\"KitchenQual\" : {\"Ex\" : 5, \"Gd\" : 4, \"TA\" : 3, \"Fa\" : 2, \"Po\" : 1}})\n",
    "test = test.replace({\"KitchenQual\" : {\"Ex\" : 5, \"Gd\" : 4, \"TA\" : 3, \"Fa\" : 2, \"Po\" : 1}})\n",
    "trn['KitchenQual'] = trn['KitchenQual'].fillna(0)\n",
    "test['KitchenQual'] = test['KitchenQual'].fillna(0)"
   ]
  },
  {
   "cell_type": "code",
   "execution_count": 172,
   "metadata": {},
   "outputs": [],
   "source": [
    "# lot frontage impute 0s\n",
    "trn['LotFrontage'] = trn['LotFrontage'].fillna(0)\n",
    "test['LotFrontage'] = test['LotFrontage'].fillna(0)"
   ]
  },
  {
   "cell_type": "code",
   "execution_count": 173,
   "metadata": {},
   "outputs": [],
   "source": [
    "# convert the two integer-type categories to categories\n",
    "trn = trn.replace({\"MSSubClass\" : {20 : \"SC20\", 30 : \"SC30\", 40 : \"SC40\", 45 : \"SC45\",\n",
    "                                       50 : \"SC50\", 60 : \"SC60\", 70 : \"SC70\", 75 : \"SC75\",\n",
    "                                       80 : \"SC80\", 85 : \"SC85\", 90 : \"SC90\", 120 : \"SC120\",\n",
    "                                       150 : \"SC150\", 160 : \"SC160\", 180 : \"SC180\", 190 : \"SC190\"},\n",
    "                       \"MoSold\" : {1 : \"Jan\", 2 : \"Feb\", 3 : \"Mar\", 4 : \"Apr\", 5 : \"May\", 6 : \"Jun\",\n",
    "                                   7 : \"Jul\", 8 : \"Aug\", 9 : \"Sep\", 10 : \"Oct\", 11 : \"Nov\", 12 : \"Dec\"}\n",
    "                      })\n",
    "\n",
    "test = test.replace({\"MSSubClass\" : {20 : \"SC20\", 30 : \"SC30\", 40 : \"SC40\", 45 : \"SC45\",\n",
    "                                       50 : \"SC50\", 60 : \"SC60\", 70 : \"SC70\", 75 : \"SC75\",\n",
    "                                       80 : \"SC80\", 85 : \"SC85\", 90 : \"SC90\", 120 : \"SC120\",\n",
    "                                       150 : \"SC150\", 160 : \"SC160\", 180 : \"SC180\", 190 : \"SC190\"},\n",
    "                       \"MoSold\" : {1 : \"Jan\", 2 : \"Feb\", 3 : \"Mar\", 4 : \"Apr\", 5 : \"May\", 6 : \"Jun\",\n",
    "                                   7 : \"Jul\", 8 : \"Aug\", 9 : \"Sep\", 10 : \"Oct\", 11 : \"Nov\", 12 : \"Dec\"}\n",
    "                      })"
   ]
  },
  {
   "cell_type": "code",
   "execution_count": 174,
   "metadata": {},
   "outputs": [],
   "source": [
    "# Garage variables\n",
    "\n",
    "trn.loc[trn.GarageType.isnull(),'GarageType']='None'\n",
    "test.loc[test.GarageType.isnull(),'GarageType']='None'\n",
    "#change GarageFinish to be ordinal with NAs = 0\n",
    "trn = trn.replace({\"GarageFinish\" : {\"Fin\" : 3, \"RFn\" : 2, \"Unf\" : 1}})\n",
    "test = test.replace({\"GarageFinish\" : {\"Fin\" : 3, \"RFn\" : 2, \"Unf\" : 1}})\n",
    "trn['GarageFinish'] = trn['GarageFinish'].fillna(0)\n",
    "test['GarageFinish'] = test['GarageFinish'].fillna(0)\n",
    "# change GarageCond to be ordinal with NAs = 0\n",
    "trn = trn.replace({\"GarageCond\" : {\"Ex\" : 5, \"Gd\" : 4, \"TA\" : 3, \"Fa\" : 2, \"Po\" : 1}})\n",
    "test = test.replace({\"GarageCond\" : {\"Ex\" : 5, \"Gd\" : 4, \"TA\" : 3, \"Fa\" : 2, \"Po\" : 1}})\n",
    "trn['GarageCond'] = trn['GarageCond'].fillna(0)\n",
    "test['GarageCond'] = test['GarageCond'].fillna(0)\n",
    "# change GarageQual to be ordinal with NAs = 0\n",
    "trn = trn.replace({\"GarageQual\" : {\"Ex\" : 5, \"Gd\" : 4, \"TA\" : 3, \"Fa\" : 2, \"Po\" : 1}})\n",
    "test = test.replace({\"GarageQual\" : {\"Ex\" : 5, \"Gd\" : 4, \"TA\" : 3, \"Fa\" : 2, \"Po\" : 1}})\n",
    "trn['GarageQual'] = trn['GarageQual'].fillna(0)\n",
    "test['GarageQual'] = test['GarageQual'].fillna(0)\n",
    "# drop garage year built - assume it is reflected in GarageQual\n",
    "trn = trn.drop(['GarageYrBlt'],axis=1)\n",
    "test = test.drop(['GarageYrBlt'],axis=1)\n"
   ]
  },
  {
   "cell_type": "code",
   "execution_count": 175,
   "metadata": {},
   "outputs": [],
   "source": [
    "# Basement variables:\n",
    "\n",
    "# DROP BsmtFinType(s) because I can't figure out how to deal with them\n",
    "trn = trn.drop(['BsmtFinType1'],axis=1)\n",
    "test = test.drop(['BsmtFinType1'],axis=1)\n",
    "trn = trn.drop(['BsmtFinType2'],axis=1)\n",
    "test = test.drop(['BsmtFinType2'],axis=1)\n",
    "# BsmtQual ord\n",
    "trn = trn.replace({\"BsmtQual\" : {\"Ex\" : 5, \"Gd\" : 4, \"TA\" : 3, \"Fa\" : 2, \"Po\" : 1}})\n",
    "test = test.replace({\"BsmtQual\" : {\"Ex\" : 5, \"Gd\" : 4, \"TA\" : 3, \"Fa\" : 2, \"Po\" : 1}})\n",
    "trn['BsmtQual'] = trn['BsmtQual'].fillna(0)\n",
    "test['BsmtQual'] = test['BsmtQual'].fillna(0)\n",
    "# BsmtCond \n",
    "trn = trn.replace({\"BsmtCond\" : {\"Ex\" : 5, \"Gd\" : 4, \"TA\" : 3, \"Fa\" : 2, \"Po\" : 1}})\n",
    "test = test.replace({\"BsmtCond\" : {\"Ex\" : 5, \"Gd\" : 4, \"TA\" : 3, \"Fa\" : 2, \"Po\" : 1}})\n",
    "trn['BsmtCond'] = trn['BsmtCond'].fillna(0)\n",
    "test['BsmtCond'] = test['BsmtCond'].fillna(0)\n",
    "# BsmtExposure\n",
    "trn = trn.replace({\"BsmtExposure\" : {\"Gd\" : 4, \"Av\" : 3, \"Mn\" : 2, \"No\" : 1}})\n",
    "test = test.replace({\"BsmtExposure\" : {\"Gd\" : 4, \"Av\" : 3, \"Mn\" : 2, \"No\" : 1}})\n",
    "trn['BsmtExposure'] = trn['BsmtExposure'].fillna(0)\n",
    "test['BsmtExposure'] = test['BsmtExposure'].fillna(0)"
   ]
  },
  {
   "cell_type": "code",
   "execution_count": 176,
   "metadata": {},
   "outputs": [],
   "source": [
    "# Mason variables:\n",
    "\n",
    "trn.loc[trn.MasVnrType.isnull(),'MasVnrType']='None'\n",
    "test.loc[test.MasVnrType.isnull(),'MasVnrType']='None'\n",
    "trn.loc[trn.MasVnrArea.isnull(),'MasVnrArea']=0\n",
    "test.loc[test.MasVnrArea.isnull(),'MasVnrArea']=0"
   ]
  },
  {
   "cell_type": "code",
   "execution_count": 177,
   "metadata": {},
   "outputs": [],
   "source": [
    "# Electrical - impute 1 NA to be most commonly represented category (by comfortable margin)\n",
    "trn.loc[trn.Electrical.isnull(),'Electrical']='SBrkr'"
   ]
  },
  {
   "cell_type": "markdown",
   "metadata": {},
   "source": [
    "# MISSING ONLY IN TEST SET"
   ]
  },
  {
   "cell_type": "code",
   "execution_count": 180,
   "metadata": {},
   "outputs": [
    {
     "data": {
      "text/html": [
       "<div>\n",
       "<style scoped>\n",
       "    .dataframe tbody tr th:only-of-type {\n",
       "        vertical-align: middle;\n",
       "    }\n",
       "\n",
       "    .dataframe tbody tr th {\n",
       "        vertical-align: top;\n",
       "    }\n",
       "\n",
       "    .dataframe thead th {\n",
       "        text-align: right;\n",
       "    }\n",
       "</style>\n",
       "<table border=\"1\" class=\"dataframe\">\n",
       "  <thead>\n",
       "    <tr style=\"text-align: right;\">\n",
       "      <th></th>\n",
       "      <th>Total</th>\n",
       "    </tr>\n",
       "  </thead>\n",
       "  <tbody>\n",
       "    <tr>\n",
       "      <th>MSZoning</th>\n",
       "      <td>4</td>\n",
       "    </tr>\n",
       "    <tr>\n",
       "      <th>Functional</th>\n",
       "      <td>2</td>\n",
       "    </tr>\n",
       "    <tr>\n",
       "      <th>BsmtFullBath</th>\n",
       "      <td>2</td>\n",
       "    </tr>\n",
       "    <tr>\n",
       "      <th>BsmtHalfBath</th>\n",
       "      <td>2</td>\n",
       "    </tr>\n",
       "    <tr>\n",
       "      <th>GarageArea</th>\n",
       "      <td>1</td>\n",
       "    </tr>\n",
       "    <tr>\n",
       "      <th>BsmtFinSF2</th>\n",
       "      <td>1</td>\n",
       "    </tr>\n",
       "    <tr>\n",
       "      <th>BsmtUnfSF</th>\n",
       "      <td>1</td>\n",
       "    </tr>\n",
       "    <tr>\n",
       "      <th>TotalBsmtSF</th>\n",
       "      <td>1</td>\n",
       "    </tr>\n",
       "    <tr>\n",
       "      <th>SaleType</th>\n",
       "      <td>1</td>\n",
       "    </tr>\n",
       "    <tr>\n",
       "      <th>Exterior2nd</th>\n",
       "      <td>1</td>\n",
       "    </tr>\n",
       "    <tr>\n",
       "      <th>Exterior1st</th>\n",
       "      <td>1</td>\n",
       "    </tr>\n",
       "    <tr>\n",
       "      <th>GarageCars</th>\n",
       "      <td>1</td>\n",
       "    </tr>\n",
       "    <tr>\n",
       "      <th>BsmtFinSF1</th>\n",
       "      <td>1</td>\n",
       "    </tr>\n",
       "  </tbody>\n",
       "</table>\n",
       "</div>"
      ],
      "text/plain": [
       "              Total\n",
       "MSZoning          4\n",
       "Functional        2\n",
       "BsmtFullBath      2\n",
       "BsmtHalfBath      2\n",
       "GarageArea        1\n",
       "BsmtFinSF2        1\n",
       "BsmtUnfSF         1\n",
       "TotalBsmtSF       1\n",
       "SaleType          1\n",
       "Exterior2nd       1\n",
       "Exterior1st       1\n",
       "GarageCars        1\n",
       "BsmtFinSF1        1"
      ]
     },
     "execution_count": 180,
     "metadata": {},
     "output_type": "execute_result"
    }
   ],
   "source": [
    "total = test.isnull().sum().sort_values(ascending=False)\n",
    "missing_data = pd.concat([total], axis=1, keys=['Total'])\n",
    "missing_data[missing_data.Total>0]"
   ]
  },
  {
   "cell_type": "code",
   "execution_count": 181,
   "metadata": {},
   "outputs": [],
   "source": [
    "# ASSUME MSZoning is equal to RL\n",
    "test.loc[test.MSZoning.isnull(),'MSZoning']='RL'"
   ]
  },
  {
   "cell_type": "code",
   "execution_count": 182,
   "metadata": {},
   "outputs": [],
   "source": [
    "# ASSUME Functional is Typ\n",
    "test.loc[test.Functional.isnull(), 'Functional']='Typ'"
   ]
  },
  {
   "cell_type": "code",
   "execution_count": 183,
   "metadata": {},
   "outputs": [],
   "source": [
    "# ASSUME null means 0 bsmt baths\n",
    "test.loc[test.BsmtFullBath.isnull(), 'BsmtFullBath']=0.0\n",
    "test.loc[test.BsmtHalfBath.isnull(), 'BsmtHalfBath']=0.0"
   ]
  },
  {
   "cell_type": "code",
   "execution_count": 184,
   "metadata": {},
   "outputs": [],
   "source": [
    "# find that bsmt sf should be 0\n",
    "test.loc[test.TotalBsmtSF.isnull(),'BsmtQual']\n",
    "test.loc[test.TotalBsmtSF.isnull(),'TotalBsmtSF']=0\n",
    "\n",
    "test.loc[test.BsmtFinSF2.isnull(),'BsmtQual']\n",
    "test.loc[test.BsmtFinSF2.isnull(),'BsmtFinSF2']=0\n",
    "\n",
    "test.loc[test.BsmtFinSF1.isnull(),'BsmtQual']\n",
    "test.loc[test.BsmtFinSF1.isnull(),'BsmtFinSF1']=0\n",
    "\n",
    "test.loc[test.BsmtUnfSF.isnull(),'BsmtQual']\n",
    "test.loc[test.BsmtUnfSF.isnull(),'BsmtUnfSF']=0"
   ]
  },
  {
   "cell_type": "code",
   "execution_count": 185,
   "metadata": {},
   "outputs": [],
   "source": [
    "# ASSUME SaleType is most common\n",
    "test.loc[test.SaleType.isnull(),'SaleType']='WD'"
   ]
  },
  {
   "cell_type": "code",
   "execution_count": 186,
   "metadata": {},
   "outputs": [],
   "source": [
    "# find that garage cars/area should be 0\n",
    "test.loc[test.GarageCars.isnull(),'GarageCars']=0\n",
    "test.loc[test.GarageArea.isnull(),'GarageArea']=0"
   ]
  },
  {
   "cell_type": "code",
   "execution_count": 187,
   "metadata": {},
   "outputs": [],
   "source": [
    "# ASSUME exteriors are most common\n",
    "test.Exterior2nd.value_counts()\n",
    "test.loc[test.Exterior1st.isnull(),'Exterior1st']='VinylSd'\n",
    "test.loc[test.Exterior2nd.isnull(),'Exterior2nd']='VinylSd'"
   ]
  },
  {
   "cell_type": "markdown",
   "metadata": {},
   "source": [
    "# FEATURE ENGINEERING"
   ]
  },
  {
   "cell_type": "code",
   "execution_count": 190,
   "metadata": {},
   "outputs": [],
   "source": [
    "# adding Total Square Foot variable\n",
    "trn['TotalSF'] = trn['TotalBsmtSF'] + trn['1stFlrSF'] + trn['2ndFlrSF']\n",
    "test['TotalSF'] = test['TotalBsmtSF'] + test['1stFlrSF'] + test['2ndFlrSF']"
   ]
  },
  {
   "cell_type": "code",
   "execution_count": 193,
   "metadata": {},
   "outputs": [],
   "source": [
    "# create dummies\n",
    "trn = pd.get_dummies(trn)\n",
    "test = pd.get_dummies(test)"
   ]
  },
  {
   "cell_type": "code",
   "execution_count": 211,
   "metadata": {},
   "outputs": [
    {
     "name": "stdout",
     "output_type": "stream",
     "text": [
      "255\n",
      "241\n",
      "14\n"
     ]
    }
   ],
   "source": [
    "# remove the dummy variables from trn that are not represented in test (14), and vice versa (1)\n",
    "dropvars1 = list(set(trn.columns)-set(test.columns)-set(['SalePrice']))\n",
    "dropvars2 = list(set(test.columns)-set(trn.columns))\n",
    "trn = trn.drop(dropvars1,axis=1)\n",
    "test = test.drop(dropvars2,axis=1)"
   ]
  },
  {
   "cell_type": "markdown",
   "metadata": {},
   "source": [
    "# WRITE TO NEW FILES"
   ]
  },
  {
   "cell_type": "code",
   "execution_count": 214,
   "metadata": {},
   "outputs": [],
   "source": [
    "trn.to_csv('cleantrain.csv')\n",
    "test.to_csv('cleantest.csv')"
   ]
  }
 ],
 "metadata": {
  "kernelspec": {
   "display_name": "Python 3",
   "language": "python",
   "name": "python3"
  },
  "language_info": {
   "codemirror_mode": {
    "name": "ipython",
    "version": 3
   },
   "file_extension": ".py",
   "mimetype": "text/x-python",
   "name": "python",
   "nbconvert_exporter": "python",
   "pygments_lexer": "ipython3",
   "version": "3.6.5"
  }
 },
 "nbformat": 4,
 "nbformat_minor": 2
}
